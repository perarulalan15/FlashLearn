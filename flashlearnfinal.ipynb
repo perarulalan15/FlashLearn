{
 "cells": [
  {
   "cell_type": "code",
   "execution_count": 4,
   "metadata": {},
   "outputs": [
    {
     "name": "stdout",
     "output_type": "stream",
     "text": [
      "Generated Summary: The British used a combination of military force, diplomacy, and strategic alliances to expand their control over the Indian subcontinent. The British adopted a policy of divide and rule, which deepened religious and caste-based tensions in Indian society. The exploitation of India's resources and people for the benefit of the British Empire left a legacy of economic inequality and social unrest that persisted long after India gained independence. The Indian independence movement, which began in the late 19th century, was a response to the injustices of British rule. After decades of struggle and negotiation, India finally gained independence in 1947, marking the end of nearly 200 years of British colonization. The legacy of British invasion and rule in India is complex, characterized by both the exploitation and modernization of the country, and it continues to influence India's political, economic, and social landscape to this day, writes Ravi Agrawal, a professor of history at the University of Calcutta.\n"
     ]
    }
   ],
   "source": [
    "from transformers import pipeline\n",
    "pipe = pipeline(\"text2text-generation\", model=\"ingeniumacademy/bart-cnn-samsum-finetuned\")\n",
    "\n",
    "def generate_dynamic_summary(text, min_percentage=0.4, max_percentage=0.5):\n",
    "    input_length = len(text.split())\n",
    "    min_summary_length = int(input_length * min_percentage)\n",
    "    max_summary_length = int(input_length * max_percentage)\n",
    "    summary_config = {\n",
    "        \"max_length\": max_summary_length,\n",
    "        \"min_length\": min_summary_length,\n",
    "        \"length_penalty\": 2.0\n",
    "    }\n",
    "    summary = pipe(text, **summary_config)\n",
    "    generated_text = summary[0]['generated_text']\n",
    "    if generated_text.endswith(\".\"):\n",
    "        return generated_text\n",
    "    else:\n",
    "        last_dot_index = generated_text.rfind(\".\")\n",
    "        if last_dot_index != -1:\n",
    "            return generated_text[:last_dot_index + 1]\n",
    "        return generated_text\n",
    "text = \"The British invasion and subsequent colonization of India began in the early 17th century when the British East India Company established trading posts along the Indian coast. Initially, the British were focused solely on trade, but as their influence grew, they began to interfere in local politics and conflicts. The decline of the Mughal Empire provided the British with an opportunity to expand their control, and by the mid-18th century, they had established a strong foothold in India. The Battle of Plassey in 1757 was a turning point, marking the beginning of British political dominance in India.The British used a combination of military force, diplomacy, and strategic alliances to expand their control over the Indian subcontinent. They gradually annexed territories through wars, treaties, and the doctrine of lapse, a policy that allowed the British to take over states without a male heir. The British also exploited divisions among Indian rulers and communities, playing one group against another to maintain their dominance. By the early 19th century, the British had effectively taken control of most of India, either directly through the British East India Company or indirectly through puppet rulers.Under British rule, India underwent significant economic and social changes. The British introduced new systems of administration, law, and education, which were designed to benefit the colonial rulers and facilitate their control over the population. They also built an extensive network of railways, roads, and telegraphs to improve communication and transport across the vast country. However, these developments came at a great cost to the Indian people. Traditional industries were destroyed, leading to widespread poverty and unemployment, and heavy taxes were imposed on farmers, resulting in frequent famines and hardship.The impact of British rule on Indian society was profound and lasting. While the British brought about certain modernizing influences, such as the spread of English education and the introduction of Western legal principles, they also exacerbated existing social divisions. The British adopted a policy of divide and rule, which deepened religious and caste-based tensions in Indian society. Furthermore, the exploitation of India's resources and people for the benefit of the British Empire left a legacy of economic inequality and social unrest that persisted long after India gained independence.The Indian independence movement, which began in the late 19th century, was a response to the injustices of British rule. Leaders like Mahatma Gandhi, Jawaharlal Nehru, and Subhas Chandra Bose mobilized millions of Indians in the struggle for freedom. The movement employed a variety of strategies, from non-violent civil disobedience to armed resistance, to challenge British authority. After decades of struggle and negotiation, India finally gained independence in 1947, marking the end of nearly 200 years of British colonization. The legacy of the British invasion and rule in India is complex, characterized by both the exploitation and modernization of the country, and it continues to influence India's political, economic, and social landscape to this day.\"\n",
    "summary = generate_dynamic_summary(text)\n",
    "print(\"Generated Summary:\", summary)\n"
   ]
  },
  {
   "cell_type": "code",
   "execution_count": 5,
   "metadata": {},
   "outputs": [
    {
     "name": "stderr",
     "output_type": "stream",
     "text": [
      "Special tokens have been added in the vocabulary, make sure the associated word embeddings are fine-tuned or trained.\n",
      "Special tokens have been added in the vocabulary, make sure the associated word embeddings are fine-tuned or trained.\n"
     ]
    },
    {
     "name": "stdout",
     "output_type": "stream",
     "text": [
      "Sentence 1:\n",
      "Question: What did the British use to expand their control over the Indian subcontinent?\n",
      "Answer: The British used a combination of military force, diplomacy, and strategic alliances to expand their control over the Indian subcontinent\n",
      "\n",
      "Sentence 2:\n",
      "Question: What was the result of the British policy of divide and rule?\n",
      "Answer: The British adopted a policy of divide and rule, which deepened religious and caste-based tensions in Indian society\n",
      "\n",
      "Sentence 3:\n",
      "Question: What was the result of the exploitation of India's resources and people by the British Empire\n",
      "Answer: The exploitation of India's resources and people for the benefit of the British Empire left a legacy of economic inequality and social unrest that persisted long after India gained independence\n",
      "\n",
      "Sentence 4:\n",
      "Question: What was the name of the movement that led to Indian independence?\n",
      "Answer: The Indian independence movement, which began in the late 19th century, was a response to the injustices of British rule\n",
      "\n",
      "Sentence 5:\n",
      "Question: What was the name of the country that gained independence in 1947?\n",
      "Answer: After decades of struggle and negotiation, India finally gained independence in 1947, marking the end of nearly 200 years of British colonization\n",
      "\n",
      "Sentence 6:\n",
      "Question: What is the legacy of British invasion and rule in India?\n",
      "Answer: The legacy of British invasion and rule in India is complex, characterized by both the exploitation and modernization of the country, and it continues to influence India's political, economic, and social landscape to this day, writes Ravi Agrawal, a professor of history at the University of Calcutta.\n",
      "\n"
     ]
    }
   ],
   "source": [
    "\n",
    "question_generator = pipeline(\"text2text-generation\", model=\"valhalla/t5-base-qa-qg-hl\")\n",
    "\n",
    "def generate_questions_and_answers(summary):\n",
    "    sentences = summary.split('. ')\n",
    "    qa_pairs = []\n",
    "    for sentence in sentences:\n",
    "        if sentence: \n",
    "            question = question_generator(f\"generate question: {sentence}\")[0]['generated_text']\n",
    "            answer = sentence\n",
    "            qa_pairs.append((question, answer))\n",
    "    \n",
    "    return qa_pairs\n",
    "\n",
    "\n",
    "qa_pairs = generate_questions_and_answers(summary)\n",
    "for i, (question, answer) in enumerate(qa_pairs):\n",
    "    print(f\"Sentence {i + 1}:\")\n",
    "    print(f\"Question: {question}\")\n",
    "    print(f\"Answer: {answer}\")\n",
    "    print()"
   ]
  },
  {
   "cell_type": "code",
   "execution_count": 6,
   "metadata": {},
   "outputs": [
    {
     "data": {
      "text/plain": [
       "[('What did the British use to expand their control over the Indian subcontinent?',\n",
       "  'The British used a combination of military force, diplomacy, and strategic alliances to expand their control over the Indian subcontinent'),\n",
       " ('What was the result of the British policy of divide and rule?',\n",
       "  'The British adopted a policy of divide and rule, which deepened religious and caste-based tensions in Indian society'),\n",
       " (\"What was the result of the exploitation of India's resources and people by the British Empire\",\n",
       "  \"The exploitation of India's resources and people for the benefit of the British Empire left a legacy of economic inequality and social unrest that persisted long after India gained independence\"),\n",
       " ('What was the name of the movement that led to Indian independence?',\n",
       "  'The Indian independence movement, which began in the late 19th century, was a response to the injustices of British rule'),\n",
       " ('What was the name of the country that gained independence in 1947?',\n",
       "  'After decades of struggle and negotiation, India finally gained independence in 1947, marking the end of nearly 200 years of British colonization'),\n",
       " ('What is the legacy of British invasion and rule in India?',\n",
       "  \"The legacy of British invasion and rule in India is complex, characterized by both the exploitation and modernization of the country, and it continues to influence India's political, economic, and social landscape to this day, writes Ravi Agrawal, a professor of history at the University of Calcutta.\")]"
      ]
     },
     "execution_count": 6,
     "metadata": {},
     "output_type": "execute_result"
    }
   ],
   "source": [
    "qa_pairs"
   ]
  }
 ],
 "metadata": {
  "kernelspec": {
   "display_name": "Python 3",
   "language": "python",
   "name": "python3"
  },
  "language_info": {
   "codemirror_mode": {
    "name": "ipython",
    "version": 3
   },
   "file_extension": ".py",
   "mimetype": "text/x-python",
   "name": "python",
   "nbconvert_exporter": "python",
   "pygments_lexer": "ipython3",
   "version": "3.12.1"
  }
 },
 "nbformat": 4,
 "nbformat_minor": 2
}
